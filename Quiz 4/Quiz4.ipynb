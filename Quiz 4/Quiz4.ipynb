{
 "cells": [
  {
   "cell_type": "code",
   "execution_count": 1,
   "metadata": {},
   "outputs": [],
   "source": [
    "import numpy as np"
   ]
  },
  {
   "cell_type": "code",
   "execution_count": 8,
   "metadata": {},
   "outputs": [
    {
     "data": {
      "text/plain": [
       "array([-1.6 ,  1.91, -0.64,  1.94])"
      ]
     },
     "execution_count": 8,
     "metadata": {},
     "output_type": "execute_result"
    }
   ],
   "source": [
    "X = np.array([\n",
    "    [0.8, 0.2, 1.0, 0.9],\n",
    "    [0.35, 0.2, 0.47, 0.3],\n",
    "    [0.85, 0.7, 0.7, 0.4],\n",
    "    [0.55, 0.17, 0.32, 0.6]\n",
    "])\n",
    "\n",
    "# Define the output vector Y\n",
    "Y = np.array([0.2, 0.1, 0.3, 0.4])\n",
    "\n",
    "W = np.linalg.pinv(X.T @ X) @ X.T @ Y\n",
    "\n",
    "W_rounded = np.round(W, 2)\n",
    "W_rounded\n",
    "\n",
    "# ΔY= w*p1 + w*p2 + w*p3 + w*p4"
   ]
  },
  {
   "cell_type": "code",
   "execution_count": 4,
   "metadata": {},
   "outputs": [
    {
     "name": "stdout",
     "output_type": "stream",
     "text": [
      "Total FLOPs: 1769472\n"
     ]
    }
   ],
   "source": [
    "input_size = 32\n",
    "input_channels = 3\n",
    "output_channels = 64\n",
    "kernel_size = 3\n",
    "stride = 1\n",
    "padding = 1\n",
    "\n",
    "output_size = (input_size + 2 * padding - kernel_size) // stride + 1\n",
    "\n",
    "flops_per_output_channel = (kernel_size ** 2) * input_channels\n",
    "\n",
    "total_flops = flops_per_output_channel * output_size ** 2 * output_channels\n",
    "\n",
    "\n",
    "print(\"Total FLOPs:\", total_flops)"
   ]
  },
  {
   "cell_type": "code",
   "execution_count": 7,
   "metadata": {},
   "outputs": [
    {
     "data": {
      "text/plain": [
       "(0.76, 0.46, 0.59)"
      ]
     },
     "execution_count": 7,
     "metadata": {},
     "output_type": "execute_result"
    }
   ],
   "source": [
    "import numpy as np\n",
    "# Define the input vector x, weight matrices W1, W2\n",
    "x = np.array([0.2, 0.4, 0.8])\n",
    "\n",
    "W1 = np.array([[0.4, 0.5],\n",
    "               [0.5, -0.7],\n",
    "               [0.6, 0.8]])\n",
    "\n",
    "W2 = np.array([0.1, 0.6])\n",
    "\n",
    "# Calculate the outputs at h1 using ReLU activation\n",
    "z1 = W1.T @ x\n",
    "h1 = np.maximum(0, z1)\n",
    "\n",
    "# Calculate the output at h2 using Sigmoid activation\n",
    "z2 = W2.T @ h1\n",
    "h2 = 1 / (1 + np.exp(-z2))\n",
    "\n",
    "h1[0], h1[1], h2\n",
    "# put to 2 dp\n",
    "np.round(h1[0], 2), np.round(h1[1], 2), np.round(h2, 2)"
   ]
  }
 ],
 "metadata": {
  "kernelspec": {
   "display_name": "Python 3",
   "language": "python",
   "name": "python3"
  },
  "language_info": {
   "codemirror_mode": {
    "name": "ipython",
    "version": 3
   },
   "file_extension": ".py",
   "mimetype": "text/x-python",
   "name": "python",
   "nbconvert_exporter": "python",
   "pygments_lexer": "ipython3",
   "version": "3.10.4"
  }
 },
 "nbformat": 4,
 "nbformat_minor": 2
}
