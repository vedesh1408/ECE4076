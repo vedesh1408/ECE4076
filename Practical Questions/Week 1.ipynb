{
 "cells": [
  {
   "cell_type": "code",
   "execution_count": 1,
   "metadata": {},
   "outputs": [],
   "source": [
    "import numpy as np"
   ]
  },
  {
   "cell_type": "code",
   "execution_count": 2,
   "metadata": {},
   "outputs": [
    {
     "data": {
      "text/plain": [
       "array([0.45882353, 0.38039216, 0.3254902 , 0.30980392, 0.27843137,\n",
       "       0.44313725, 0.35294118, 0.31372549, 0.29803922, 0.26666667,\n",
       "       0.36470588, 0.3372549 , 0.30588235, 0.25490196, 0.23529412,\n",
       "       0.34901961, 0.32941176, 0.29019608, 0.25098039, 0.23137255,\n",
       "       0.3254902 , 0.30980392, 0.26666667, 0.24313725, 0.22745098])"
      ]
     },
     "execution_count": 2,
     "metadata": {},
     "output_type": "execute_result"
    }
   ],
   "source": [
    "# Question 1\n",
    "grid = [117, 97, 83, 79, 71,\n",
    "113, 90, 80, 76, 68,\n",
    "93, 86, 78, 65, 60,\n",
    "89, 84, 74, 64, 59,\n",
    "83, 79, 68, 62, 58]\n",
    "grid = np.array(grid)/255\n",
    "grid"
   ]
  },
  {
   "cell_type": "code",
   "execution_count": 4,
   "metadata": {},
   "outputs": [
    {
     "data": {
      "text/plain": [
       "array([0.1907451 , 0.2154902 , 0.1687451 , 0.21047059, 0.17466667,\n",
       "       0.20701961, 0.20643137, 0.14117647, 0.21764706, 0.15776471,\n",
       "       0.17188235, 0.194     , 0.15756863, 0.17576471, 0.14435294,\n",
       "       0.14486275, 0.20419608, 0.15964706, 0.16243137, 0.13996078,\n",
       "       0.18815686, 0.15137255, 0.14121569, 0.13588235, 0.14396078])"
      ]
     },
     "execution_count": 4,
     "metadata": {},
     "output_type": "execute_result"
    }
   ],
   "source": [
    "# Question 2\n",
    "red = [117, 161, 138, 139, 117,\n",
    "161, 152, 125, 134, 106,\n",
    "146, 142, 123, 118, 101,\n",
    "133, 140, 119, 110, 96,\n",
    "138, 122, 112, 101, 94]\n",
    "\n",
    "blue = [97, 86, 67, 72, 59,\n",
    "86, 80, 57, 72, 51,\n",
    "75, 75, 61, 60, 48,\n",
    "67, 77, 60, 56, 47,\n",
    "76, 62, 55, 48, 47]\n",
    "\n",
    "green = [24, 21, 13, 27, 22,\n",
    "18, 21, 8, 31, 20,\n",
    "11, 20, 14, 22, 17,\n",
    "6, 24, 16, 20, 17,\n",
    "19, 12, 12, 14, 19]\n",
    "\n",
    "# use the equation\n",
    "# I = (0.21 * R + 0.72 * G + 0.07 * B)/255\n",
    "\n",
    "I = (0.21 * np.array(red) + 0.72 * np.array(green) + 0.07 * np.array(blue))/255\t\n",
    "I"
   ]
  },
  {
   "cell_type": "code",
   "execution_count": 8,
   "metadata": {},
   "outputs": [
    {
     "data": {
      "text/plain": [
       "array([0.09411765, 0.08235294, 0.05098039, 0.10588235, 0.08627451,\n",
       "       0.07058824, 0.08235294, 0.03137255, 0.12156863, 0.07843137,\n",
       "       0.04313725, 0.07843137, 0.05490196, 0.08627451, 0.06666667,\n",
       "       0.02352941, 0.09411765, 0.0627451 , 0.07843137, 0.06666667,\n",
       "       0.0745098 , 0.04705882, 0.04705882, 0.05490196, 0.0745098 ])"
      ]
     },
     "execution_count": 8,
     "metadata": {},
     "output_type": "execute_result"
    }
   ],
   "source": [
    "#Question 3a - Normalize RGB Values: R′ = R/255, G′ = G/255, R′ = R/255.\n",
    "red_d = np.array(red)/255\n",
    "green_d = np.array(green)/255\n",
    "blue_d = np.array(blue)/255\n",
    "\n",
    "#Question 3b - Compute Cmax = max(R′, G′, B′), Cmin = min(R′, G′, B′) and ∆ = Cmax − Cmin.\n",
    "Cmax = np.maximum(red_d, green_d, blue_d)\n",
    "Cmin = np.minimum(red_d, green_d, blue_d)\n",
    "delta = Cmax - Cmin\n",
    "\n",
    "#Question 3c - Compute H\n",
    "H= np.zeros(25)\n",
    "for i in range(25):\n",
    "    if delta[i] == 0:\n",
    "        H[i] = 0\n",
    "    elif Cmax[i] == red_d[i]:\n",
    "        H[i] = 60 * (((green_d[i] - blue_d[i])/delta[i]) % 6)\n",
    "    elif Cmax[i] == green_d[i]:\n",
    "        H[i] = 60 * (((blue_d[i] - red_d[i])/delta[i]) + 2)\n",
    "    elif Cmax[i] == blue_d[i]:\n",
    "        H[i] = 60 * (((red_d[i] - green_d[i])/delta[i]) + 4)\n",
    "\n",
    "\n",
    "#Question 3d - Compute S\n",
    "S = np.zeros(25)\n",
    "for i in range(25):\n",
    "    if Cmax[i] == 0:\n",
    "        S[i] = 0\n",
    "    else:\n",
    "        S[i] = delta[i]/Cmax[i]\n",
    "\n",
    "#Question 3e - Compute V\n",
    "V = Cmax\n",
    "#Question 3f - Print H, S, V\n",
    "V"
   ]
  },
  {
   "cell_type": "code",
   "execution_count": null,
   "metadata": {},
   "outputs": [],
   "source": []
  },
  {
   "cell_type": "code",
   "execution_count": null,
   "metadata": {},
   "outputs": [],
   "source": []
  }
 ],
 "metadata": {
  "kernelspec": {
   "display_name": "Python 3",
   "language": "python",
   "name": "python3"
  },
  "language_info": {
   "codemirror_mode": {
    "name": "ipython",
    "version": 3
   },
   "file_extension": ".py",
   "mimetype": "text/x-python",
   "name": "python",
   "nbconvert_exporter": "python",
   "pygments_lexer": "ipython3",
   "version": "3.10.4"
  }
 },
 "nbformat": 4,
 "nbformat_minor": 2
}
